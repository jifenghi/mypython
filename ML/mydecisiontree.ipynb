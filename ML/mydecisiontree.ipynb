{
 "cells": [
  {
   "cell_type": "markdown",
   "metadata": {},
   "source": [
    "### （熵最好理解为不确定性的量度而不是确定性的量度，因为越随机的信源的熵越大。）在信息论里面，熵是对不确定性的测量。但是在信息世界，熵越高，则能传输越多的信息，熵越低，则意味着传输的信息越少。\n",
    "### 如果有一枚理想的硬币，其出现正面和反面的机会相等，则抛硬币事件的熵等于其能够达到的最大值。如果一枚硬币的两面完全相同，那个这个系列抛硬币事件的熵等于零，因为结果能被准确预测。现实世界里，我们收集到的数据的熵介于上面两种情况之间。"
   ]
  },
  {
   "cell_type": "code",
   "execution_count": 35,
   "metadata": {},
   "outputs": [],
   "source": [
    "from math import log\n",
    "\n",
    "def calcShannonEnt(dataSet):  # 计算香农熵\n",
    "    numEntries = len(dataSet)  # 计算项的数目  计算数据集中实例的总数\n",
    "    labelCounts = {}\n",
    "    for featVec in dataSet:\n",
    "        currentLabel = featVec[-1]\n",
    "        if currentLabel not in labelCounts.keys():  # 如果当前键值不在，扩展字典  !!!'dict' object has no attribute 'key'\n",
    "            labelCounts[currentLabel] = 0\n",
    "        labelCounts[currentLabel] += 1    # 记录键值当前类别出现的次数\n",
    "        shannonEnt = 0.0\n",
    "        for key in labelCounts:\n",
    "            prob = float(labelCounts[key])/numEntries\n",
    "            shannonEnt -= prob * log(prob,2)\n",
    "        return shannonEnt  # 熵越大， 则混合的数据越多\n",
    "# 0.46438561897747244"
   ]
  },
  {
   "cell_type": "code",
   "execution_count": 36,
   "metadata": {},
   "outputs": [
    {
     "name": "stdout",
     "output_type": "stream",
     "text": [
      "[[1, 1, 'yes'], [1, 1, 'yes'], [1, 0, 'no'], [0, 1, 'no'], [0, 1, 'no']]\n",
      "0.46438561897747244\n"
     ]
    }
   ],
   "source": [
    "def createDataSet():\n",
    "    myData = [[1,1,'yes',],\n",
    "          [1,1,'yes'],\n",
    "          [1,0,'no'],\n",
    "          [0,1,'no'],\n",
    "          [0,1,'no']]\n",
    "    labels = ['no surfacing', 'flippers']\n",
    "    #print(len(myData))\n",
    "    return myData,labels\n",
    "mydata,mylables = createDataSet()\n",
    "print(mydata)\n",
    "res = calcShannonEnt(mydata)\n",
    "print(res) # 0.46438561897747244"
   ]
  },
  {
   "cell_type": "code",
   "execution_count": 37,
   "metadata": {},
   "outputs": [
    {
     "name": "stdout",
     "output_type": "stream",
     "text": [
      "[[1, 1, 'yes'], [1, 1, 'yes'], [1, 0, 'no'], [0, 1, 'no'], [0, 1, 'no']]\n",
      "0.46438561897747244\n"
     ]
    }
   ],
   "source": [
    "# 源代码\n",
    "def createDataSet():\n",
    "    dataSet = [[1, 1, 'yes'],\n",
    "               [1, 1, 'yes'],\n",
    "               [1, 0, 'no'],\n",
    "               [0, 1, 'no'],\n",
    "               [0, 1, 'no']]\n",
    "    labels = ['no surfacing', 'flippers']\n",
    "    # change to discrete values\n",
    "    return dataSet, labels\n",
    "\n",
    "mydata,labels = createDataSet()\n",
    "print(mydata)\n",
    "res1 = calcShannonEnt(mydata)\n",
    "print(res1)"
   ]
  },
  {
   "cell_type": "code",
   "execution_count": 38,
   "metadata": {},
   "outputs": [
    {
     "name": "stdout",
     "output_type": "stream",
     "text": [
      "0.5283208335737187\n",
      "0.5\n",
      "0.5\n",
      "0.5283208335737187\n"
     ]
    }
   ],
   "source": [
    "outlook = [[1,1,0,0,0,'sunny'],[1,1,1,1,'overcast'],[1,1,1,0,0,'rainy']]\n",
    "humidity = [[1,1,1,0,0,0,0,'high'],[1,1,1,1,1,1,0,'normal']]\n",
    "windy = [[1,1,1,1,1,1,0,0,'false'],[1,1,1,0,0,0,'true']]\n",
    "tem = [[1,1,0,0,'hot'],[1,1,1,1,0,0,'mild'],[1,1,1,0,'cool']]\n",
    "res1 = calcShannonEnt(outlook)\n",
    "res2 = calcShannonEnt(humidity)\n",
    "res3 = calcShannonEnt(windy)\n",
    "res4 = calcShannonEnt(tem)\n",
    "print(res1)\n",
    "print(res2)\n",
    "print(res3)\n",
    "print(res4)"
   ]
  },
  {
   "cell_type": "markdown",
   "metadata": {},
   "source": [
    "### 3-1计算给定数据集的香农熵"
   ]
  },
  {
   "cell_type": "code",
   "execution_count": 39,
   "metadata": {},
   "outputs": [],
   "source": [
    "from math import log\n",
    "\n",
    "def calcShannonEnt(dataSet):  # 计算香农熵\n",
    "    numEntries = len(dataSet)  # 计算项的数目  计算数据集中实例的总数\n",
    "    labelCounts = {}\n",
    "    for featVec in dataSet:\n",
    "        currentLabel = featVec[-1]\n",
    "        if currentLabel not in labelCounts.keys():  # 如果当前键值不在，扩展字典  !!!'dict' object has no attribute 'key'\n",
    "            labelCounts[currentLabel] = 0\n",
    "        labelCounts[currentLabel] += 1    # 记录键值当前类别出现的次数\n",
    "        shannonEnt = 0.0\n",
    "    for key in labelCounts:\n",
    "        prob = float(labelCounts[key])/numEntries\n",
    "        shannonEnt -= prob * log(prob,2)\n",
    "    return shannonEnt  # 熵越大， 则混合的数据越多"
   ]
  },
  {
   "cell_type": "code",
   "execution_count": 40,
   "metadata": {},
   "outputs": [
    {
     "name": "stdout",
     "output_type": "stream",
     "text": [
      "0.9709505944546686\n"
     ]
    }
   ],
   "source": [
    "# 测试3-1\n",
    "def createDataSet():\n",
    "    myData = [[1,1,'yes'],\n",
    "          [1,1,'yes'],\n",
    "          [1,0,'no'],\n",
    "          [0,1,'no'],\n",
    "          [0,1,'no']]\n",
    "    labels = ['no surfacing', 'flippers']\n",
    "    return myData,labels\n",
    "mydata,mylables = createDataSet()\n",
    "res = calcShannonEnt(mydata)\n",
    "print(res)"
   ]
  },
  {
   "cell_type": "markdown",
   "metadata": {},
   "source": [
    "### 3-2划分数据集\n"
   ]
  },
  {
   "cell_type": "code",
   "execution_count": 41,
   "metadata": {},
   "outputs": [],
   "source": [
    "def splitDataSet(dataSet, axis, value):  # axis:划分数据集特征，表现为列表的第axis个元素\n",
    "    retDataSet = []\n",
    "    for featVec in dataSet:  # 循环特征向量\n",
    "        if featVec[axis] == value:   # 发现符合要求的值，则将它添加到新的列表中\n",
    "            reducedFeatVec = featVec[:axis]   # 截取前 axis 个元素\n",
    "            reducedFeatVec.extend(featVec[axis+1:])  # 这个向量和最初的向量的差别就是——该向量缺少第 axis 个元素\n",
    "            retDataSet.append(reducedFeatVec)\n",
    "    return retDataSet  # 返回 按照某个特征（axis）的划分数据"
   ]
  },
  {
   "cell_type": "code",
   "execution_count": 42,
   "metadata": {},
   "outputs": [
    {
     "name": "stdout",
     "output_type": "stream",
     "text": [
      "[[1, 'yes'], [1, 'yes'], [0, 'no']]\n"
     ]
    }
   ],
   "source": [
    "# 测试 3-2\n",
    "def createDataSet():\n",
    "    myData = [[1,1,'yes'],\n",
    "          [1,1,'yes'],\n",
    "          [1,0,'no'],\n",
    "          [0,1,'no'],\n",
    "          [0,1,'no']]\n",
    "    labels = ['no surfacing', 'flippers']\n",
    "    #print(len(myData))\n",
    "    return myData,labels\n",
    "mydata,mylables = createDataSet()\n",
    "#print(mydata)\n",
    "#res1 = splitDataSet(mydata, 0, 0)  # [[1, 'no'], [1, 'no']]\n",
    "#res1 = splitDataSet(mydata, 1, 1)  #[[1, 'yes'], [1, 'yes'], [0, 'no'], [0, 'no']]\n",
    "#res1 = splitDataSet(mydata, 1, 0)  # [[1, 'no']]\n",
    "res1 = splitDataSet(mydata, 0, 1)  \n",
    "print(res1)"
   ]
  },
  {
   "cell_type": "markdown",
   "metadata": {},
   "source": [
    "### 3-3选择最好的数据集划分方式"
   ]
  },
  {
   "cell_type": "code",
   "execution_count": 43,
   "metadata": {},
   "outputs": [],
   "source": [
    "def chooseBestFeatureToSplit(dataSet):  # 选择最好的数据集划分方式\n",
    "    #numFeatures = len(dataSet)  #  numFeatures = 5    !!!!!!!!!!!!!!!!!! 此行错误\n",
    "    numFeatures = len(dataSet[0]) - 1   # 特征属性的数量应该是实例的维数-1 （-1是除去结果——最终类别判定）\n",
    "    baseEntropy = calcShannonEnt(dataSet)  # 计算数据集的原始香农熵\n",
    "    bestInfoGain = 0.0  \n",
    "    bestFeature = -1\n",
    "    for i in range(numFeatures):   # numFeatures = 2\n",
    "        featList = [example[i] for example in dataSet]   # 抽取 |每个实例的 第 numFeatures 个特征属性|  构成新的列表\n",
    "        uniqueVals = set(featList)  # 独一无二的属性值（元素） ——使用集合除去重复的值\n",
    "        newEntropy = 0.0  \n",
    "        for value in uniqueVals:\n",
    "            subDataSet = splitDataSet(dataSet, i, value)  # 调用splitDataSet（）函数\n",
    "            prob = len(subDataSet)/float(len(dataSet))\n",
    "            newEntropy += prob * calcShannonEnt(subDataSet)\n",
    "        infoGain = baseEntropy - newEntropy\n",
    "        if infoGain > bestInfoGain:\n",
    "            bestInfoGain = infoGain\n",
    "            bestFeature = i\n",
    "    return bestFeature"
   ]
  },
  {
   "cell_type": "code",
   "execution_count": 44,
   "metadata": {},
   "outputs": [
    {
     "name": "stdout",
     "output_type": "stream",
     "text": [
      "1\n"
     ]
    }
   ],
   "source": [
    "# 测试 3-3\n",
    "def createDataSet():\n",
    "    myData = [[1,1,'yes'],\n",
    "          [1,1,'yes'],\n",
    "          [1,0,'no'],\n",
    "          [0,1,'no'],\n",
    "          [1,0,'no']]\n",
    "    labels = ['no surfacing', 'flippers']\n",
    "    return myData,labels\n",
    "mydata,mylables = createDataSet()\n",
    "res2 = chooseBestFeatureToSplit(mydata)\n",
    "print(res2)"
   ]
  },
  {
   "cell_type": "markdown",
   "metadata": {},
   "source": [
    "### 3-4 创建树的函数代码"
   ]
  },
  {
   "cell_type": "code",
   "execution_count": 45,
   "metadata": {},
   "outputs": [],
   "source": [
    "import operator\n",
    "def majorityCnt(classList):  # 作用：解决 |数据集已经处理了所有属性，但类标签依然不唯一| 的情况\n",
    "    classCount = { }\n",
    "    for vote in classList:\n",
    "        if vote not in classCount.keys():\n",
    "            classCount[vote] = 0\n",
    "        classCount[vote] += 1\n",
    "    sortedClassCount = sorted(classCount.items(),key=operator.itemgetter(1),reverse=True)\n",
    "    return sortedClassCount[0][0]"
   ]
  },
  {
   "cell_type": "code",
   "execution_count": 46,
   "metadata": {},
   "outputs": [],
   "source": [
    "def createTree(dataSet,labels):\n",
    "    classList = [example[-1] for example in dataSet]\n",
    "    if classList.count(classList[0]) == len(classList): \n",
    "        return classList[0]  # 类别都是一样的话，返回类别并停止划分\n",
    "    if len(dataSet[0]) == 1:\n",
    "        return majorityCnt(classList)  # 返回出现次数最多的类别\n",
    "    bestFeat = chooseBestFeatureToSplit(dataSet) # 调用 chooseBestFeatureToSplit（）找最好的特征（属性）\n",
    "    bestFeatLabel = labels[bestFeat]  # 最好特征（属性） 对应的即为 最好的特征标签\n",
    "    myTree = { bestFeatLabel:{ } }\n",
    "    del(labels[bestFeat])\n",
    "    featValues = [example[bestFeat] for example in dataSet]  # 由最好的特征（属性） 构成 最好特征值 列表\n",
    "    uniqueVals = set(featValues)  # 去重复化\n",
    "    for value in uniqueVals:\n",
    "        subLabels = labels[:]\n",
    "        myTree[bestFeatLabel][value] = createTree(splitDataSet(dataSet, bestFeat, value), subLabels) # 此处是 递归操作\n",
    "    return myTree"
   ]
  },
  {
   "cell_type": "code",
   "execution_count": 47,
   "metadata": {},
   "outputs": [
    {
     "name": "stdout",
     "output_type": "stream",
     "text": [
      "{'no surfacing': {0: 'no', 1: {'flippers': {0: 'no', 1: 'yes'}}}}\n"
     ]
    }
   ],
   "source": [
    "# 测试 3-4\n",
    "def createDataSet():\n",
    "    myData = [[1,1,'yes'],\n",
    "          [1,1,'yes'],\n",
    "          [1,0,'no'],\n",
    "          [0,1,'no'],\n",
    "          [0,1,'no']]\n",
    "    labels = ['no surfacing', 'flippers']\n",
    "    return myData,labels\n",
    "mydata,mylabels = createDataSet()\n",
    "#res1 = splitDataSet(mydata, 0, 1)   # [[1, 'yes'], [1, 'yes'], [0, 'no']]\n",
    "#print(res1)\n",
    "res1 = splitDataSet(mydata, 0, 0)\n",
    "myTree = createTree(mydata, mylabels)\n",
    "print(myTree)"
   ]
  },
  {
   "cell_type": "markdown",
   "metadata": {},
   "source": [
    "### 3-5 使用文本注解绘制树节点\n",
    "#### Matplotlib提供一个非常有用的注解工具annotations,它可以在数据图形上添加文本注解。"
   ]
  },
  {
   "cell_type": "code",
   "execution_count": 48,
   "metadata": {},
   "outputs": [],
   "source": [
    "import matplotlib.pyplot as plt  # 注释：字典形式的树结构不易于理解，故   这里用 Matplotlib库创建树（决策树的主要优点就是直观）\n",
    "\n",
    "decisionNode = dict(boxstyle=\"sawtooth\",fc=\"0.8\")  # {'boxstyle': 'sawtooth', 'fc': '0.8'}\n",
    "leafNode = dict(boxstyle=\"round4\",fc=\"0.8\")  # {'boxstyle': 'round4', 'fc': '0.8'}\n",
    "arrow_args = dict(arrowstyle=\"<-\")  # {'arrowstyle': '<-'}\n",
    "\n",
    "def plotNode(nodeTxt, centerPt, parentPt, nodeType):\n",
    "    createPlot.axl.annotate(nodeTxt, xy=parentPt,\\\n",
    "                            xycoords='axes fraction',xytext=centerPt, textcoords='axes fraction',\\\n",
    "                           va=\"center\",ha=\"center\",bbox=nodeType,arrowprops=arrow_args)   # ??????????\n",
    "\n",
    "#def createPlot():  #          :: 第一个版本的createPlot（）\n",
    "#    fig = plt.figure(1, facecolor='white')  # 创建一个新的图形\n",
    "#    fig.clf()  # 清空绘图区\n",
    "#    createPlot.axl = plt.subplot(111, frameon=False)\n",
    "#    plotNode('决策节点', (0.5, 0.1), (0.1, 0.5), decisionNode)\n",
    "#    plotNode('叶节点', (0.8, 0.1), (0.3, 0.8), leafNode)\n",
    "#    plt.show()"
   ]
  },
  {
   "cell_type": "markdown",
   "metadata": {},
   "source": [
    "### 3-6 获取叶节点的数目和树的层数\n",
    "#### 说明了如何在Python字典类型中存储树信息"
   ]
  },
  {
   "cell_type": "code",
   "execution_count": 49,
   "metadata": {},
   "outputs": [],
   "source": [
    "def getNumLeaf(myTree):  # 知道有多少个叶节点， 以便可以正确确定x轴的长度\n",
    "    numLeafs = 0\n",
    "    firstStr = list(myTree.keys())[0]     # 第一个关键字是第一次划分数据集的类别标签  ——  附带的数值表示  子节点 的取值\n",
    "    secondDict = myTree[firstStr]\n",
    "    for key in secondDict.keys():   \n",
    "        if type(secondDict[key]).__name__==\"dict\":   # 判断子节点是字典类型，是  ——  节点是一个判断节点，递归\n",
    "            numLeafs += getNumLeaf(secondDict[key])\n",
    "        else:  # 否  ——  子节点\n",
    "            numLeafs += 1\n",
    "    return numLeafs   # 返回 累计叶子节点的个数\n",
    "\n",
    "def getTreeDepth(myTree):  # 知道树有多少层， 以便正确确定y轴的高度\n",
    "    maxDepth=0\n",
    "    firstStr = list(myTree.keys())[0]  # 'dict' object has no attribute 'key'   #  'dict_keys' object does not support indexing\n",
    "    secondDict = myTree[firstStr]\n",
    "    for key in secondDict.keys():\n",
    "        if type(secondDict[key]).__name__==\"dict\":\n",
    "            thisDepth = 1 + getTreeDepth(secondDict[key])\n",
    "        else:\n",
    "            thisDepth = 1\n",
    "        if thisDepth > maxDepth:\n",
    "            maxDepth = thisDepth\n",
    "    return maxDepth"
   ]
  },
  {
   "cell_type": "markdown",
   "metadata": {},
   "source": [
    "### 3-7 plotTree函数"
   ]
  },
  {
   "cell_type": "code",
   "execution_count": 51,
   "metadata": {},
   "outputs": [],
   "source": [
    "def plotMidText(cntrPt, parentPt, txtString):   # 在父子节点间填充文本信息\n",
    "    xMid = (parentPt[0]-cntrPt[0])/2.0 + cntrPt[0]\n",
    "    yMid = (parentPt[1]-cntrPt[1])/2.0 + cntrPt[1]\n",
    "    createPlot.axl.text(xMid,yMid,txtString)\n",
    "    \n",
    "def plotTree(myTree, parentPt, nodeTxt):\n",
    "    numLeafs = getNumLeaf(myTree)   # 计算树的叶节点，  以确定x轴的长度\n",
    "    depth = getTreeDepth(myTree)  # # 计算树的深度，  以确定y轴的长度\n",
    "    # firstStr = myTree.keys()[0]  # use in Python2.7\n",
    "    firstStr = list(myTree.keys())[0]\n",
    "    cntrPt = (plotTree.xOff + (1.0 + float(numLeafs))/2.0/plotTree.totalW, plotTree.yOff)\n",
    "    \n",
    "    \n",
    "    plotMidText(cntrPt, parentPt, nodeTxt)   # 标记子节点属性值\n",
    "    plotNode(firstStr, cntrPt, parentPt, decisionNode)\n",
    "    secondDict = myTree[firstStr]\n",
    "    \n",
    "    \n",
    "    plotTree.yOff = plotTree.yOff - 1.0/plotTree.totalD  # 减少y偏移    ：：追踪已经绘制的节点位置\n",
    "    for key in secondDict.keys():\n",
    "        if type(secondDict[key]).__name__==\"dict\":\n",
    "            plotTree(secondDict[key],cntrPt, str(key))\n",
    "        else:\n",
    "            plotTree.xOff = plotTree.xOff + 1.0/plotTree.totalW\n",
    "            plotNode(secondDict[key], (plotTree.xOff, plotTree.yOff), cntrPt, leafNode)\n",
    "            plotMidText((plotTree.xOff, plotTree.yOff), cntrPt, str(key))\n",
    "    plotTree.yOff = plotTree.yOff + 1.0/plotTree.totalD\n",
    "\n",
    "def createPlot(inTree):   # 创建绘图区—— 计算树形图的全局尺寸 —— 调用递归函数plotTree（）\n",
    "    fig = plt.figure(1, facecolor='white')\n",
    "    fig.clf()\n",
    "    axprops = dict(xticks=[], yticks=[])\n",
    "    createPlot.axl = plt.subplot(111, frameon=False, **axprops)\n",
    "    plotTree.totalW = float(getNumLeaf(inTree))  # 树的宽度\n",
    "    plotTree.totalD = float(getTreeDepth(inTree))  # 树的深度\n",
    "    plotTree.xOff = -0.5/plotTree.totalW   # x偏移\n",
    "    plotTree.yOff = 1.0  # y偏移\n",
    "    plotTree(inTree, (0.5,1.0), '')\n",
    "    plt.show()"
   ]
  },
  {
   "cell_type": "code",
   "execution_count": 53,
   "metadata": {
    "collapsed": true
   },
   "outputs": [
    {
     "data": {
      "image/png": "[encoded data removed]",
      "text/plain": [
       "<Figure size 432x288 with 1 Axes>"
      ]
     },
     "metadata": {},
     "output_type": "display_data"
    }
   ],
   "source": [
    "# 测试 3-7\n",
    "# mytree = retrieveTree(0)\n",
    "# createPlot(mytree)   # 见  书上   P48   效果图\n",
    "mytree['no surfacing'][3] = 'maybe'\n",
    "# print(mytree)  {'no surfacing': {0: 'no', 1: {'flippers': {0: 'no', 1: 'yes'}}, 3: 'maybe'}}\n",
    "createPlot(mytree)"
   ]
  },
  {
   "cell_type": "markdown",
   "metadata": {},
   "source": [
    "### 3-8 使用决策树的分类函数"
   ]
  },
  {
   "cell_type": "code",
   "execution_count": 54,
   "metadata": {},
   "outputs": [],
   "source": [
    "def classify(inputTree, featLabels, testVec):\n",
    "    firstStr = list(inputTree.keys())[0]\n",
    "    secondDict= inputTree[firstStr]\n",
    "    featIndex = featLabels.index(firstStr)\n",
    "    for key in secondDict.keys():\n",
    "        if testVec[featIndex] == key:\n",
    "            if type(secondDict[key]).__name__==\"dict\":\n",
    "                classLabel = classify(secondDict[key], featLabels, testVec)\n",
    "            else:\n",
    "                classLabel = secondDict[key]\n",
    "    return classLabel"
   ]
  },
  {
   "cell_type": "code",
   "execution_count": 55,
   "metadata": {
    "collapsed": true
   },
   "outputs": [
    {
     "name": "stdout",
     "output_type": "stream",
     "text": [
      "['no surfacing', 'flippers']\n",
      "{'no surfacing': {0: 'no', 1: {'flippers': {0: 'no', 1: 'yes'}}}}\n",
      "cla1 = no, cla2 = yes\n"
     ]
    }
   ],
   "source": [
    "myData,labels = createDataSet()\n",
    "print(labels)  # ['no surfacing', 'flippers']\n",
    "myTree = retrieveTree(0)\n",
    "print(myTree)  # {'no surfacing': {0: 'no', 1: {'flippers': {0: 'no', 1: 'yes'}}}}\n",
    "cla1 = classify(myTree,labels,[1,0])\n",
    "cla2 = classify(myTree,labels,[1,1])\n",
    "print(\"cla1 = %s, cla2 = %s\" % (cla1,cla2))"
   ]
  },
  {
   "cell_type": "markdown",
   "metadata": {},
   "source": [
    "### 3-9 使用pickle模块存储决策树"
   ]
  },
  {
   "cell_type": "code",
   "execution_count": 56,
   "metadata": {},
   "outputs": [],
   "source": [
    "def storeTree(inputTree, filename):\n",
    "    import pickle\n",
    "    fw = open(filename,'wb')  # 'w'  --> 'wb'\n",
    "    pickle.dump(inputTree, fw)  # TypeError: write() argument must be str, not bytes\n",
    "\n",
    "    fw.close()\n",
    "\n",
    "def grabTree(filename):\n",
    "    import pickle\n",
    "    fr = open(filename,'rb') # open(filename)  --> open(filename, 'rb')\n",
    "    return pickle.load(fr)  # UnicodeDecodeError: 'gbk' codec can't decode byte 0x80 in position 0: illegal multibyte sequence"
   ]
  },
  {
   "cell_type": "markdown",
   "metadata": {},
   "source": [
    "# 示例：使用决策树预测隐形眼镜类型"
   ]
  },
  {
   "cell_type": "code",
   "execution_count": 59,
   "metadata": {},
   "outputs": [
    {
     "name": "stdout",
     "output_type": "stream",
     "text": [
      "{'tearRate': {'normal': {'astigmatic': {'yes': {'prescript': {'myope': 'hard', 'hyper': {'age': {'presbyopic': 'no lenses', 'pre': 'no lenses', 'young': 'hard'}}}}, 'no': {'age': {'presbyopic': {'prescript': {'myope': 'no lenses', 'hyper': 'soft'}}, 'pre': 'soft', 'young': 'soft'}}}}, 'reduced': 'no lenses'}}\n"
     ]
    },
    {
     "data": {
      "image/png": "[encoded data removed]",
      "text/plain": [
       "<Figure size 432x288 with 1 Axes>"
      ]
     },
     "metadata": {},
     "output_type": "display_data"
    }
   ],
   "source": [
    "fr = open('lenses.txt')  #  绝对路径 C:/Users/DELL/PythonFolder/lenses.txt    如果路径不对的话可以尝试 绝对路径  \n",
    "lenses=[inst.strip().split('\\t') for inst in fr.readlines()]\n",
    "lensesLabels = ['age', 'prescript', 'astigmatic', 'tearRate']\n",
    "lensesTree = createTree(lenses, lensesLabels)\n",
    "print(lensesTree)\n",
    "createPlot(lensesTree)"
   ]
  },
  {
   "cell_type": "code",
   "execution_count": null,
   "metadata": {},
   "outputs": [],
   "source": [
    "# 测试 3-6\n",
    "def retrieveTree(i):\n",
    "    listOfTree = [{'no surfacing':{0:'no',1:{'flippers':\\\n",
    "                    {0:'no',1:'yes'}}}},\n",
    "                  {'no surfacing':{0:'no',1:{'flippers':\\\n",
    "                    {0:{'head':{0:'no',1:'yes'}},1:'no'}}}}\n",
    "                  ]\n",
    "    return listOfTree[i]\n",
    "\n",
    "retrieveTree(1)\n",
    "mytree = retrieveTree(0)\n",
    "leaf = getNumLeaf(mytree)\n",
    "depth = getTreeDepth(mytree)\n",
    "print(leaf)\n",
    "print(depth)\n",
    "createPlot(mytree)  # 书上   P48   效果图"
   ]
  },
  {
   "cell_type": "code",
   "execution_count": null,
   "metadata": {},
   "outputs": [],
   "source": [
    "storeTree(myTree,'classifierStorage.txt')\n",
    "grabTree('classifierStorage.txt')"
   ]
  }
 ],
 "metadata": {
  "kernelspec": {
   "display_name": "Python 3",
   "language": "python",
   "name": "python3"
  },
  "language_info": {
   "codemirror_mode": {
    "name": "ipython",
    "version": 3
   },
   "file_extension": ".py",
   "mimetype": "text/x-python",
   "name": "python",
   "nbconvert_exporter": "python",
   "pygments_lexer": "ipython3",
   "version": "3.5.2"
  }
 },
 "nbformat": 4,
 "nbformat_minor": 2
}
